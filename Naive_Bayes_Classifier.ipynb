{
 "cells": [
  {
   "cell_type": "code",
   "execution_count": 8,
   "metadata": {},
   "outputs": [],
   "source": [
    "import numpy as np\n",
    "import re\n",
    "import math\n",
    "import random\n",
    "import matplotlib.pyplot as plt"
   ]
  },
  {
   "cell_type": "code",
   "execution_count": 9,
   "metadata": {},
   "outputs": [],
   "source": [
    "yelp_input = []\n",
    "l = []\n",
    "yelp_path = './yelp_labelled.txt'\n",
    "with open(yelp_path) as yp:\n",
    "    line = yp.readline()\n",
    "    while line:\n",
    "        yelp_input.append(line.strip())\n",
    "        line = yp.readline()"
   ]
  },
  {
   "cell_type": "code",
   "execution_count": 10,
   "metadata": {},
   "outputs": [],
   "source": [
    "def DataSet(ds):\n",
    "    data = [j[:-3] for j in ds]\n",
    "    data = [item.lower() for item in data]\n",
    "    for i in range(len(data)):\n",
    "        data[i] = re.sub('[^A-Za-z0-9-\\s]+', '', data[i])\n",
    "    k = [j[-1:] for j in ds]\n",
    "    for i in range(0, len(k)): \n",
    "        k[i] = int(k[i])\n",
    "    ds = list(zip(data , k))\n",
    "    \n",
    "    return ds"
   ]
  },
  {
   "cell_type": "code",
   "execution_count": 11,
   "metadata": {},
   "outputs": [],
   "source": [
    "ds = DataSet(yelp_input)"
   ]
  },
  {
   "cell_type": "code",
   "execution_count": 12,
   "metadata": {},
   "outputs": [],
   "source": [
    "def dist(ds):\n",
    "    ds_1 = []\n",
    "    ds_0 = []\n",
    "    \n",
    "    for i in range(len(ds)):\n",
    "        if ds[i][1] == 1:\n",
    "            ds_1.append(ds[i])\n",
    "        else:\n",
    "            ds_0.append(ds[i])\n",
    "    \n",
    "    ds_1 = random.sample(ds_1, len(ds_1))\n",
    "    \n",
    "    ds_0 = random.sample(ds_0, len(ds_0))\n",
    "    \n",
    "    return ds_1, ds_0"
   ]
  },
  {
   "cell_type": "code",
   "execution_count": 13,
   "metadata": {},
   "outputs": [],
   "source": [
    "ds_1, ds_0 = dist(ds)"
   ]
  },
  {
   "cell_type": "code",
   "execution_count": 14,
   "metadata": {},
   "outputs": [],
   "source": [
    "def train_test_split(ds, val):\n",
    "    index = int(val*len(ds))\n",
    "    train = ds[:index]\n",
    "    test = ds[index:]\n",
    "    \n",
    "    return train, test"
   ]
  },
  {
   "cell_type": "code",
   "execution_count": 15,
   "metadata": {},
   "outputs": [],
   "source": [
    "train1, test1 = train_test_split(ds_1, 0.7)\n",
    "train0, test0 = train_test_split(ds_0, 0.7)"
   ]
  },
  {
   "cell_type": "code",
   "execution_count": 18,
   "metadata": {},
   "outputs": [],
   "source": [
    "def token_data(input_data):\n",
    "    words = {}\n",
    "    tot_words = 0\n",
    "    for i in range(len(input_data)):\n",
    "        for w in input_data[i][0].split(\" \"):\n",
    "            tot_words += 1\n",
    "            if(w in words):\n",
    "                words[w] += 1\n",
    "            else:\n",
    "                words[w] = 1\n",
    "    \n",
    "    return words, tot_words"
   ]
  },
  {
   "cell_type": "code",
   "execution_count": 19,
   "metadata": {},
   "outputs": [],
   "source": [
    "word_1, tot_word1 = token_data(train1)\n",
    "word_0, tot_word0 = token_data(train0)"
   ]
  },
  {
   "cell_type": "code",
   "execution_count": 20,
   "metadata": {},
   "outputs": [],
   "source": [
    "train = train1 + train0\n",
    "train_random = random.sample(train, len(train))\n",
    "\n",
    "test = test1 + test0\n",
    "test_random = random.sample(test, len(test))"
   ]
  },
  {
   "cell_type": "code",
   "execution_count": 21,
   "metadata": {},
   "outputs": [],
   "source": [
    "TrainData = []\n",
    "TrainLabels = []\n",
    "TestData = []\n",
    "TestLabels = []\n",
    "\n",
    "\n",
    "for i in range(len(train_random)):\n",
    "    TrainData.append(train_random[i][0])\n",
    "    TrainLabels.append(train_random[i][1])\n",
    "    \n",
    "\n",
    "for i in range(len(test_random)):\n",
    "    TestData.append(test_random[i][0])\n",
    "    TestLabels.append(test_random[i][1])"
   ]
  },
  {
   "cell_type": "markdown",
   "metadata": {},
   "source": [
    "Dictionary"
   ]
  },
  {
   "cell_type": "code",
   "execution_count": 24,
   "metadata": {},
   "outputs": [],
   "source": [
    "def dictionary(input_data):\n",
    "    voc = {}\n",
    "    tot_words = 0\n",
    "    for i in range(len(input_data)):\n",
    "        for w in input_data[i][0].split(\" \"):\n",
    "            tot_words += 1\n",
    "            if(w in voc):\n",
    "                voc[w] += 1\n",
    "            else:\n",
    "                voc[w] = 1\n",
    "    \n",
    "    return voc, tot_words"
   ]
  },
  {
   "cell_type": "code",
   "execution_count": 25,
   "metadata": {},
   "outputs": [],
   "source": [
    "voc, tot_words = dictionary(train)"
   ]
  },
  {
   "cell_type": "markdown",
   "metadata": {},
   "source": [
    "Prior Calc"
   ]
  },
  {
   "cell_type": "code",
   "execution_count": 26,
   "metadata": {},
   "outputs": [],
   "source": [
    "def prior_calc(trainClass, data):\n",
    "    L = math.log(len(trainClass)/len(data))\n",
    "    \n",
    "    return L"
   ]
  },
  {
   "cell_type": "code",
   "execution_count": 27,
   "metadata": {},
   "outputs": [],
   "source": [
    "L0 = prior_calc(train0, train)\n",
    "L1 = prior_calc(train1, train)"
   ]
  },
  {
   "cell_type": "markdown",
   "metadata": {},
   "source": [
    "Prediction"
   ]
  },
  {
   "cell_type": "code",
   "execution_count": 32,
   "metadata": {},
   "outputs": [],
   "source": [
    "def predict(mL0, mL1, token0, token1, test):\n",
    "    y = []\n",
    "    acc = 0\n",
    "    \n",
    "    for i in range(len(test)):\n",
    "        pred0 = mL0\n",
    "        pred1 = mL1\n",
    "    \n",
    "        for w in test[i][0].split(\" \"):\n",
    "            w = w.lower()\n",
    "            if token0.__contains__(w):\n",
    "                pred0 += token0[w]\n",
    "            if token1.__contains__(w):    \n",
    "                pred1 += token1[w]\n",
    "    \n",
    "        if pred0 > pred1:\n",
    "            y.append(0)\n",
    "        else: \n",
    "            y.append(1)\n",
    "        \n",
    "        if y[i] == test[i][1]:\n",
    "            acc += 1\n",
    "    \n",
    "    total_acc = acc/len(test)\n",
    "    \n",
    "    return total_acc"
   ]
  },
  {
   "cell_type": "code",
   "execution_count": null,
   "metadata": {},
   "outputs": [],
   "source": []
  }
 ],
 "metadata": {
  "kernelspec": {
   "display_name": "Python 3",
   "language": "python",
   "name": "python3"
  },
  "language_info": {
   "codemirror_mode": {
    "name": "ipython",
    "version": 3
   },
   "file_extension": ".py",
   "mimetype": "text/x-python",
   "name": "python",
   "nbconvert_exporter": "python",
   "pygments_lexer": "ipython3",
   "version": "3.8.5"
  }
 },
 "nbformat": 4,
 "nbformat_minor": 4
}
