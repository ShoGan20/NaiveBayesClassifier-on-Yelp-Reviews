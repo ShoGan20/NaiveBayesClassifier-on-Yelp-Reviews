{
 "cells": [
  {
   "cell_type": "code",
   "execution_count": 125,
   "metadata": {},
   "outputs": [],
   "source": [
    "import numpy as np\n",
    "import re\n",
    "import math\n",
    "import random\n",
    "import matplotlib.pyplot as plt"
   ]
  },
  {
   "cell_type": "code",
   "execution_count": 126,
   "metadata": {},
   "outputs": [],
   "source": [
    "yelp_input = []\n",
    "l = []\n",
    "yelp_path = './yelp_labelled.txt'\n",
    "with open(yelp_path) as yp:\n",
    "    line = yp.readline()\n",
    "    while line:\n",
    "        yelp_input.append(line.strip())\n",
    "        line = yp.readline()"
   ]
  },
  {
   "cell_type": "code",
   "execution_count": 127,
   "metadata": {},
   "outputs": [],
   "source": [
    "def DataSet(ds):\n",
    "    data = [j[:-3] for j in ds]\n",
    "    data = [item.lower() for item in data]\n",
    "    for i in range(len(data)):\n",
    "        data[i] = re.sub('[^A-Za-z0-9-\\s]+', '', data[i])\n",
    "    k = [j[-1:] for j in ds]\n",
    "    for i in range(0, len(k)): \n",
    "        k[i] = int(k[i])\n",
    "    ds = list(zip(data , k))\n",
    "    \n",
    "    return ds"
   ]
  },
  {
   "cell_type": "code",
   "execution_count": 128,
   "metadata": {},
   "outputs": [],
   "source": [
    "ds = DataSet(yelp_input)"
   ]
  },
  {
   "cell_type": "code",
   "execution_count": 129,
   "metadata": {},
   "outputs": [],
   "source": [
    "def dist(ds):\n",
    "    ds_1 = []\n",
    "    ds_0 = []\n",
    "    \n",
    "    for i in range(len(ds)):\n",
    "        if ds[i][1] == 1:\n",
    "            ds_1.append(ds[i])\n",
    "        else:\n",
    "            ds_0.append(ds[i])\n",
    "    \n",
    "    ds_1 = random.sample(ds_1, len(ds_1))\n",
    "    \n",
    "    ds_0 = random.sample(ds_0, len(ds_0))\n",
    "    \n",
    "    return ds_1, ds_0"
   ]
  },
  {
   "cell_type": "code",
   "execution_count": 130,
   "metadata": {},
   "outputs": [],
   "source": [
    "ds_1, ds_0 = dist(ds)"
   ]
  },
  {
   "cell_type": "code",
   "execution_count": 131,
   "metadata": {},
   "outputs": [],
   "source": [
    "def train_test_split(ds, val):\n",
    "    index = int(val*len(ds))\n",
    "    train = ds[:index]\n",
    "    test = ds[index:]\n",
    "    \n",
    "    return train, test"
   ]
  },
  {
   "cell_type": "code",
   "execution_count": 132,
   "metadata": {},
   "outputs": [],
   "source": [
    "train1, test1 = train_test_split(ds_1, 0.7)\n",
    "train0, test0 = train_test_split(ds_0, 0.7)"
   ]
  },
  {
   "cell_type": "code",
   "execution_count": 133,
   "metadata": {},
   "outputs": [],
   "source": [
    "def token_data(input_data):\n",
    "    words = {}\n",
    "    tot_words = 0\n",
    "    for i in range(len(input_data)):\n",
    "        for w in input_data[i][0].split(\" \"):\n",
    "            tot_words += 1\n",
    "            if(w in words):\n",
    "                words[w] += 1\n",
    "            else:\n",
    "                words[w] = 1\n",
    "    \n",
    "    return words, tot_words"
   ]
  },
  {
   "cell_type": "code",
   "execution_count": 134,
   "metadata": {},
   "outputs": [],
   "source": [
    "word_1, tot_word1 = token_data(train1)\n",
    "word_0, tot_word0 = token_data(train0)"
   ]
  },
  {
   "cell_type": "code",
   "execution_count": 135,
   "metadata": {},
   "outputs": [],
   "source": [
    "train = train1 + train0\n",
    "train_random = random.sample(train, len(train))\n",
    "\n",
    "test = test1 + test0\n",
    "test_random = random.sample(test, len(test))"
   ]
  },
  {
   "cell_type": "code",
   "execution_count": 136,
   "metadata": {},
   "outputs": [],
   "source": [
    "TrainData = []\n",
    "TrainLabels = []\n",
    "TestData = []\n",
    "TestLabels = []\n",
    "\n",
    "\n",
    "for i in range(len(train_random)):\n",
    "    TrainData.append(train_random[i][0])\n",
    "    TrainLabels.append(train_random[i][1])\n",
    "    \n",
    "\n",
    "for i in range(len(test_random)):\n",
    "    TestData.append(test_random[i][0])\n",
    "    TestLabels.append(test_random[i][1])"
   ]
  },
  {
   "cell_type": "markdown",
   "metadata": {},
   "source": [
    "Creating Dictionary"
   ]
  },
  {
   "cell_type": "code",
   "execution_count": 137,
   "metadata": {},
   "outputs": [],
   "source": [
    "def dictionary(input_data):\n",
    "    voc = {}\n",
    "    tot_words = 0\n",
    "    for i in range(len(input_data)):\n",
    "        for w in input_data[i][0].split(\" \"):\n",
    "            tot_words += 1\n",
    "            if(w in voc):\n",
    "                voc[w] += 1\n",
    "            else:\n",
    "                voc[w] = 1\n",
    "    \n",
    "    return voc, tot_words"
   ]
  },
  {
   "cell_type": "code",
   "execution_count": 138,
   "metadata": {},
   "outputs": [],
   "source": [
    "voc, tot_words = dictionary(train)"
   ]
  },
  {
   "cell_type": "code",
   "execution_count": 176,
   "metadata": {},
   "outputs": [
    {
     "name": "stdout",
     "output_type": "stream",
     "text": [
      "Dictionary:\n",
      "  {'food': 86, 'arrived': 3, 'quickly': 3, 'when': 14, 'i': 223, 'received': 3, 'my': 55, 'pita': 3, 'it': 89, 'was': 191, 'huge': 3, 'did': 13, 'have': 45, 'a': 160, 'lot': 5, 'of': 83, 'meat': 7, 'in': 79, 'so': 54, 'thumbs': 2, 'up': 17, 'there': 26, 'our': 29, 'server': 10, 'very': 55, 'nice': 13, 'and': 269, 'attentive': 2, 'as': 23, 'were': 46, 'the': 396, 'other': 10, 'serving': 2, 'staff': 12, 'great': 52, 'subway': 3, 'fact': 4, 'its': 13, 'good': 69, 'you': 42, 'come': 8, 'here': 47, 'every': 6, 'will': 32, 'not': 75, 'meet': 1, 'your': 20, 'expectations': 1, 'atmosphere': 9, 'is': 121, 'fun': 2, 'delicious': 18, 'just': 23, 'spicy': 5, 'enough': 7, 'be': 55, 'sure': 5, 'to': 154, 'ask': 3, 'for': 76, 'spicier': 1, 'if': 23, 'prefer': 1, 'that': 40, 'way': 12, 'their': 23, 'chow': 1, 'mein': 1, 'service': 54, 'excellent': 5, 'prices': 6, 'are': 37, 'pretty': 16, 'reasonable': 3, 'considering': 2, 'this': 106, 'vegas': 17, 'located': 1, 'inside': 4, 'crystals': 1, 'shopping': 1, 'mall': 2, 'by': 14, 'aria': 1, 'chips': 4, 'salsa': 3, 'really': 27, 'fresh': 9, 'definitely': 10, 'back': 44, 'overall': 5, 'like': 36, 'place': 77, 'little': 8, 'vibe': 3, 'restaurant': 18, 'brunch': 2, 'spot': 4, 'omg': 1, 'felt': 5, 'had': 53, 'never': 20, 'eaten': 4, 'thai': 3, 'until': 3, 'dish': 5, 'black': 2, 'eyed': 1, 'peas': 1, 'sweet': 4, 'potatoes': 2, 'unreal': 1, 'portion': 2, 'eat': 15, 'reminds': 1, 'me': 12, 'mom': 2, 'pop': 2, 'shops': 1, 'san': 1, 'francisco': 1, 'bay': 4, 'area': 6, 'quick': 4, 'even': 15, 'go': 27, 'orders': 2, 'we': 60, 'dessert': 4, 'panna': 1, 'cotta': 1, 'amazing': 18, 'ill': 4, 'soon': 8, 'again': 14, 'found': 6, 'accident': 1, 'could': 11, 'happier': 1, 'im': 12, 'az': 1, 'all': 37, 'time': 33, 'now': 5, 'new': 5, 'at': 43, 'mandalay': 1, 'fine': 3, 'waitress': 6, 'friendly': 16, 'breakfast': 8, 'perpared': 1, 'with': 53, 'beautiful': 2, 'presentation': 2, '3': 2, 'giant': 1, 'slices': 1, 'toast': 1, 'lightly': 1, 'dusted': 1, 'powdered': 1, 'sugar': 1, 'do': 11, 'recommend': 8, 'can': 13, 'wrong': 4, 'donut': 1, 'these': 3, 'ordered': 12, 'them': 12, 'twice': 5, 'much': 15, 'better': 9, 'than': 8, 'ayce': 1, 'sushi': 8, 'went': 9, 'pizza': 11, 'salads': 2, 'greek': 3, 'dressing': 2, 'creamy': 1, 'flavorful': 1, 'best': 21, 'tacos': 4, 'town': 6, 'far': 5, 'both': 4, 'rotating': 1, 'beers': 1, 'on': 42, 'tap': 2, 'also': 18, 'highlight': 1, 'they': 39, 'know': 7, 'how': 11, 'make': 7, 'reasonably': 2, 'priced': 2, 'price': 6, 'which': 13, 'high': 3, 'quality': 9, 'house': 1, 'made': 11, 'am': 5, 'going': 15, 'review': 3, '-': 12, 'once': 4, 'hereas': 1, 'tribute': 2, 'an': 29, 'event': 1, 'held': 1, 'last': 5, 'night': 10, 'loved': 6, 'fantastic': 7, 'itll': 1, 'regular': 2, 'stop': 1, 'trips': 1, 'phoenix': 3, 'delish': 3, 'incredible': 3, 'beer': 5, 'selection': 6, 'everything': 7, 'perfect': 8, 'guys': 1, 'steaks': 4, 'steak': 9, 'loving': 1, 'son': 1, 'who': 5, 'has': 10, 'worst': 9, 'places': 4, 'said': 6, 'hes': 1, 'ever': 23, 'only': 24, 'pros': 1, '': 17, 'large': 3, 'seating': 2, 'bar': 6, 'simple': 2, 'drink': 3, 'menu': 12, 'brick': 2, 'oven': 2, 'homemade': 3, 'dough': 1, 'value': 2, 'four': 1, 'stars': 10, 'guy': 1, 'blue': 1, 'shirt': 1, 'his': 5, 'still': 8, 'letting': 1, 'us': 12, 'hole': 1, 'wall': 3, 'mexican': 2, 'street': 1, 'personally': 1, 'love': 12, 'hummus': 2, 'baklava': 1, 'falafels': 1, 'baba': 1, 'ganoush': 1, 'what': 14, 'eggplant': 2, 'expect': 2, 'veggitarian': 1, 'platter': 1, 'out': 16, 'world': 1, 'cant': 8, 'say': 11, 'things': 5, 'about': 11, 'relax': 1, 'awesome': 9, 'burger': 7, 'tater': 1, 'tots': 2, 'southwest': 1, 'desserts': 2, 'yummy': 3, 'chicken': 8, 'deliciously': 1, 'seasoned': 2, 'fry': 2, 'outside': 4, 'moist': 3, 'today': 4, 'second': 3, 'ive': 14, 'been': 15, 'lunch': 8, 'buffet': 8, 'including': 1, 'massive': 1, 'meatloaf': 1, 'sandwich': 7, 'crispy': 1, 'wrap': 2, 'tuna': 2, 'melt': 2, 'some': 16, 'tasty': 7, 'burgers': 4, 'bartender': 1, 'cool': 1, 'would': 16, 'dinners': 1, 'where': 5, 'first': 12, 'pho': 2, 'each': 4, 'day': 7, 'week': 1, 'different': 2, 'deal': 2, 'proven': 1, 'dead': 1, 'because': 11, 'but': 39, 'fast': 5, 'impeccable': 2, 'from': 16, 'dinner': 5, 'companions': 1, 'told': 3, 'meeverything': 1, 'texture': 2, 'taste': 7, 'level': 1, '5': 5, 'spice': 1, 'didnt': 7, 'over-whelm': 1, 'soup': 2, 'since': 6, '2007': 1, 'meal': 10, 'boyfriend': 2, 'sat': 3, 'completely': 2, 'delightful': 2, 'experience': 16, 'bathrooms': 1, 'clean': 5, 'itself': 3, 'well': 12, 'decorated': 2, 'golden-crispy': 1, 'group': 2, '70': 1, 'claimed': 1, '40': 3, 'handled': 1, 'beautifully': 1, 'get': 11, 'incredibly': 1, 'fish': 4, 'prepared': 1, 'care': 2, 'absolute': 1, 'must': 4, 'visit': 3, 'efficient': 1, 'maria': 1, 'she': 8, 'hands': 2, 'down': 5, 'favorite': 2, 'italian': 2, 'see': 5, 'caring': 1, 'teamwork': 1, 'professional': 2, 'degree': 1, 'bbq': 1, 'lighter': 1, 'fare': 1, 'pricing': 2, 'tell': 4, 'public': 1, 'old': 4, 'ways': 1, 'nicest': 2, 'owners': 4, 'across': 1, 'ate': 3, 'especially': 2, 'enjoyed': 5, 'salmon': 2, 'salad': 11, 'yellowtail': 1, 'carpaccio': 1, 'mouth': 2, 'hope': 3, 'sticks': 2, 'around': 5, 'joint': 2, 'always': 8, 'try': 6, 'airport': 1, 'speedy': 1, 'buldogis': 1, 'gourmet': 1, 'hot': 8, 'dog': 3, 'more': 8, 'thought': 3, 'possible': 3, 'cooked': 6, 'perfection': 2, 'steiners': 1, 'dark': 2, 'feels': 1, 'croutons': 1, 'extra': 2, 'plus': 2, 'job': 4, 'handling': 1, 'rowdy': 1, 'table': 7, 'stopped': 1, 'during': 3, 'late': 1, 'may': 5, 'bank': 1, 'holiday': 1, 'off': 7, 'rick': 1, 'steve': 1, 'recommendation': 3, 'folks': 2, 'otto': 1, 'feel': 6, 'welcome': 1, 'special': 5, 'lastly': 1, 'mozzarella': 1, 'thing': 7, 'oh': 2, 'such': 2, 'beauty': 1, 'heart': 4, 'ambiance': 4, 'got': 12, 'full': 2, 'petty': 1, 'decor': 2, 'chinese': 2, 'calligraphy': 1, 'paper': 2, 'worth': 8, 'venturing': 1, 'strip': 2, 'pork': 3, 'belly': 1, 'return': 5, 'next': 10, 'glance': 1, 'lovely': 2, 'bakery': 2, 'cafe': 3, 'dishes': 7, 'mention': 1, 'combination': 2, 'pears': 1, 'almonds': 1, 'bacon': 4, 'big': 2, 'winner': 1, 'super': 4, 'crazy': 2, 'crowds': 1, 'downtown': 2, 'juries': 1, 'lawyers': 1, 'court': 1, 'came': 14, 'recent': 2, 'trip': 4, 'pleased': 2, 'duo': 1, 'violinists': 1, 'playing': 2, 'songs': 1, 'requested': 1, 'outstanding': 3, 'dining': 8, 'happy': 3, 'decided': 2, 'sides': 1, 'mixed': 1, 'mushrooms': 1, 'yukon': 1, 'gold': 1, 'puree': 2, 'white': 2, 'corn': 1, 'beateous': 1, 'wait': 8, 'plethora': 1, 'sandwiches': 1, 'tried': 5, 'gets': 1, 'seal': 1, 'approval': 1, 'hella': 1, 'salty': 1, 'wow': 3, 'bread': 3, 'app': 1, 'people': 7, 'duck': 3, 'dos': 1, 'gringos': 1, 'serivce': 1, 'hawaiian': 1, 'breeze': 1, 'mango': 1, 'magic': 1, 'pineapple': 1, 'delight': 1, 'smoothies': 1, 'theyre': 1, 'chef': 1, 'generous': 3, 'take': 7, 'pictures': 1, 'him': 2, 'portions': 3, 'tapas': 1, 'rice': 4, 'cow': 1, 'tongue': 1, 'cheek': 1, 'cute': 1, 'quaint': 1, 'honest': 3, 'he': 15, 'wife': 3, 'loves': 1, 'roasted': 2, 'garlic': 2, 'bone': 1, 'marrow': 2, 'added': 1, 'another': 8, 'while': 4, 'disappoint': 1, 'talk': 3, 'customer': 4, 'course': 3, 'blanket': 1, 'moz': 1, 'over': 7, 'top': 1, 'done': 6, 'cover': 1, 'subpar': 1, 'extensive': 1, 'provides': 1, 'lots': 1, 'options': 1, 'inviting': 1, 'hands-down': 1, 'one': 17, 'metro': 1, 'in-house': 1, 'cannot': 2, 'beat': 1, 'summer': 1, 'dine': 2, 'charming': 1, 'outdoor': 1, 'patio': 2, 'seriously': 5, 'killer': 1, 'chai': 1, 'latte': 1, 'hungry': 1, 'leave': 3, 'stuffed': 1, 'highly': 4, 'recommended': 3, 'ample': 1, 'drive': 3, 'north': 1, 'scottsdale': 1, 'bit': 5, 'disappointed': 16, 'empty': 3, 'suggestions': 1, 'bruschetta': 1, 'devine': 1, 'experienced': 1, 'frenchman': 1, 'saving': 1, 'room': 3, 'thanks': 1, 'dylan': 1, 't': 1, 'order': 8, 'tummy': 1, 'classic': 1, 'maine': 1, 'lobster': 3, 'roll': 1, 'think': 12, 'become': 2, 'assure': 2, 'wont': 17, 'macarons': 1, 'insanely': 1, 'chefs': 1, 'wings': 3, 'ice': 4, 'cream': 2, 'left': 3, 'feeling': 2, 'quite': 3, 'satisfied': 1, 'several': 3, 'times': 11, 'past': 1, 'strawberry': 1, 'tea': 3, 'served': 3, 'butter': 2, 'home': 4, 'potato': 4, 'bits': 1, 'topvery': 1, 'original': 1, 'waitresses': 1, 'everyone': 2, 'treated': 3, 'equally': 1, 'bachi': 2, 'friends': 5, 'put': 1, 'plastic': 1, 'containers': 1, 'opposed': 1, 'cramming': 1, 'takeout': 1, 'boxes': 1, '100': 2, 'def': 1, 'coming': 7, 'bowl': 1, 'tim': 1, 'someone': 3, 'likes': 1, 'cold': 7, 'or': 12, 'case': 1, 'colder': 1, 'crpe': 1, 'delicate': 1, 'thin': 2, 'two': 6, 'upway': 1, 'pace': 1, 'anything': 2, 'complain': 2, 'exquisite': 1, 'screams': 1, 'legit': 2, 'booksomethats': 1, 'rare': 4, 'check': 5, 'sun': 1, 'deserves': 3, 'enjoy': 5, 'seafood': 4, 'fabulous': 1, 'vinegrette': 2, 'chipotle': 1, 'block': 1, 'unbelievable': 1, 'bargain': 1, 'youre': 2, 'familiar': 2, 'fianc': 1, 'middle': 1, 'greeted': 2, 'seated': 5, 'right': 7, 'away': 3, 'funny': 1, 'mouthful': 1, 'enjoyable': 1, 'relaxed': 1, 'venue': 1, 'couples': 1, 'small': 4, 'family': 5, 'groups': 1, 'etc': 1, 'interesting': 3, 'amazingrge': 1, 'fillet': 1, 'relleno': 1, 'plate': 2, 'want': 6, 'any': 10, 'firehouse': 1, 'daily': 1, 'specials': 1, 'hit': 2, 'prompt': 1, 'warm': 2, 'guest': 1, 'treat': 1, 'liked': 1, 'wonderful': 4, 'must-stop': 1, 'whenever': 1, 'used': 3, 'menus': 1, 'handed': 1, 'ladies': 2, 'no': 15, 'listed': 1, 'trimmed': 1, 'perfectly': 2, 'seasonal': 1, 'fruit': 1, 'peach': 1, 'included': 1, 'tastings': 1, '2': 4, 'drinks': 2, 'jeff': 1, 'above': 2, 'beyond': 1, 'expected': 2, 'ambience': 2, 'music': 2, 'itfriendly': 1, 'servers': 3, 'imaginative': 1, 'many': 6, 'expertconnisseur': 1, 'topic': 1, 'driving': 1, 'tucson': 1, 'though': 3, 'looked': 2, 'overwhelmed': 2, 'needs': 2, 'stayed': 2, 'end': 1, 'glad': 2, 'sit-down': 1, 'together': 1, 'few': 7, 'promptly': 1, 'serve': 1, 'vinaigrette': 1, 'absolutely': 4, 'dont': 19, 'pasta': 4, 'hand': 2, 'pastas': 1, 'pizzas': 2, 'too': 8, 'give': 7, 'military': 1, 'discount': 1, 'lemon': 1, 'raspberry': 1, 'cocktail': 1, 'couple': 2, 'months': 1, 'later': 1, 'returned': 1, 'terrific': 1, 'thrilled': 1, 'accommodations': 1, 'vegetarian': 1, 'daughter': 1, 'stuff': 1, 'decide': 1, 'eating': 6, 'shrimp': 3, 'tender': 3, 'heard': 2, 'exceeding': 1, 'dreamed': 1, 'setting': 3, 'damn': 2, 'fav': 1, 'biscuit': 1, 'point': 2, 'finger': 1, 'item': 1, 'highlighted': 1, 'unique': 1, 'stay': 3, 'least': 3, 'moms': 1, 'multi-grain': 1, 'pumpkin': 1, 'pancakes': 2, 'pecan': 1, 'fluffy': 1, 'sunday': 1, 'side': 4, 'serves': 2, 'watch': 2, 'preparing': 2, 'immediately': 2, 'fries': 6, 'highlights': 1, 'nigiri': 1, 'voodoo': 1, 'id': 3, 'gluten': 1, 'free': 1, 'years': 1, 'ago': 1, 'selections': 1, 'conclusion': 1, 'filling': 2, 'meals': 2, 'onion': 1, 'rings': 1, 'close': 3, 'space': 1, 'tiny': 1, 'elegantly': 1, 'comfortable': 1, 'opportunity': 2, 'sample': 1, 'authentic': 3, 'whole': 2, 'bunch': 1, 'yet': 3, 'meats': 1, 'choose': 1, 'need': 2, 'sporting': 1, 'events': 1, 'walls': 1, 'covered': 1, 'tvs': 1, 'outshining': 1, 'halibut': 1, 'evening': 1, 'cheese': 2, 'crisp': 1, 'truly': 1, 'unbelievably': 1, 'cocktails': 1, 'handmade': 1, 'definately': 1, 'ourselves': 1, 'fo': 1, 'those': 2, 'beans': 3, 'pleasure': 1, 'dealing': 2, 'pink': 1, 'char': 1, 'pricey': 1, 'pay': 3, 'getting': 5, 'lordy': 1, 'khao': 1, 'soi': 1, 'missed': 1, 'curry': 2, 'lovers': 2, 'neighborhood': 2, 'gem': 1, 'rich': 1, 'accordingly': 1, 'checked': 1, 'sals': 1, 'healthy': 1, 'ethic': 1, 'round': 1, '4': 3, 'cashier': 2, 'brought': 1, 'owner': 2, 'work': 1, 'nobu': 1, 'similar': 1, 'half': 1, 'goat': 1, 'taco': 2, 'skimp': 1, 'flavor': 5, 'modern': 1, 'hip': 1, 'maintaining': 1, 'touch': 1, 'coziness': 1, 'omelets': 1, 'die': 1, 'running': 3, 'after': 10, 'realized': 2, 'husband': 4, 'sunglasses': 1, 'han': 1, 'nan': 1, 'tasted': 5, 'sexy': 1, 'party': 2, 'outrageously': 1, 'flirting': 1, 'hottest': 1, 'person': 2, 'performed': 1, 'amount': 2, 'sauce': 6, 'power': 1, 'scallop': 2, 'refreshing': 1, 'crema': 1, 'caf': 1, 'before': 7, 'expanded': 1, 'satifying': 1, 'complaints': 1, 'diverse': 1, 'jalapeno': 1, 'soooo': 1, 'continue': 1, 'andddd': 1, 'date': 1, 'anyone': 2, '8': 2, 'bucks': 1, 'waiter': 2, 'helpful': 1, 'kept': 4, 'bloddy': 1, 'marys': 1, 'peanut': 1, 'cape': 1, 'cod': 1, 'ravoli': 1, 'chickenwith': 1, 'cranberrymmmm': 1, 'convenient': 2, 'staying': 2, 'mgm': 1, 'egg': 2, 'rolls': 2, 'beef': 2, 'roast': 1, 'lighting': 1, 'set': 2, 'mood': 1, 'classywarm': 1, 'appetizers': 1, 'succulent': 1, 'baseball': 1, 'customize': 1, 'youd': 1, 'usual': 1, 'green': 3, 'bean': 1, 'stir': 2, 'grilled': 1, 'reminded': 1, 'updatewent': 1, 'amazin': 1, 'crawfish': 1, 'prime': 1, 'rib': 1, 'section': 1, 'exceptional': 1, 'reviews': 2, 'mussels': 1, 'wine': 2, 'reduction': 1, '7': 1, 'isnt': 2, 'establishment': 3, 'part': 2, 'finish': 2, 'actually': 2, 'manager': 2, 'typical': 1, 'shawarrrrrrma': 1, 'thus': 1, 'visited': 1, 'seen': 1, '1': 4, '400': 1, 'appalling': 1, 'wasnt': 10, 'busy': 2, 'either': 4, 'building': 2, 'freezing': 1, 'hardly': 1, 'downside': 1, 'arent': 2, 'ones': 1, 'scene': 1, 'restaurants': 3, 'itdefinitely': 1, 'lost': 2, 'why': 3, 'sad': 2, 'vegetables': 3, 'overcooked': 1, 'refried': 1, 'dried': 1, 'crusty': 1, 'bland': 6, 'bad': 13, 'soggy': 1, 'boy': 2, 'sucker': 1, 'dry': 4, 'bars': 1, 'recall': 1, 'being': 8, 'charged': 1, 'water': 3, 'girlfriends': 1, 'veal': 1, 'bisque': 2, 'lukewarm': 1, 'due': 1, 'took': 6, '20': 3, 'minutes': 14, 'acknowledged': 1, 'then': 6, '35': 3, 'foodand': 1, 'forgetting': 1, 'note': 1, 'ventilation': 1, 'use': 2, 'upgrading': 1, 'google': 1, 'mediocre': 5, 'imagine': 1, 'smashburger': 1, 'unfortunately': 4, 'leftover': 1, 'stale': 3, 'foodservice': 1, 'quit': 1, 'soooooo': 1, 'cheap': 2, 'let': 2, 'freaking': 1, 'papers': 1, 'guess': 3, 'maybe': 2, 'disgraceful': 1, 'waited': 8, 'forty': 1, 'five': 1, 'vain': 1, 'friend': 1, 'bloody': 1, 'mary': 1, 'worlds': 1, 'worstannoying': 1, 'drunk': 1, 'insults': 1, 'profound': 1, 'deuchebaggery': 1, 'smoke': 1, 'break': 2, 'solidify': 1, 'neither': 1, 'disgusting': 1, 'however': 2, 'fondue': 1, 'barely': 2, 'edible': 2, 'ryans': 1, 'edinburgh': 1, 'revisiting': 1, 'negligent': 1, 'unwelcome': 1, 'suggest': 1, 'nasty': 2, 'extremely': 2, 'rude': 7, 'weekend': 1, 'classics': 1, 'sorely': 1, 'below': 1, 'average': 2, 'needless': 2, 'anytime': 4, 'bye': 2, 'tip': 2, 'lady': 2, 'toasted': 1, 'english': 1, 'muffin': 1, 'untoasted': 1, 'slow': 5, 'reservation': 1, 'happened': 2, 'brother': 1, 'law': 1, 'works': 1, 'same': 1, 'sick': 2, 'weird': 1, 'fried': 4, 'dedicated': 1, 'boba': 2, 'spots': 1, 'jenni': 1, 'cashew': 1, 'undercooked': 2, 'lacked': 2, 'seemed': 1, 'something': 1, 'hard': 3, 'decent': 1, 'hamburger': 1, 'attack': 2, 'grill': 2, 'flat-lined': 1, 'excuse': 2, 'joeys': 1, 'voted': 1, 'valley': 1, 'readers': 1, 'magazine': 1, 'rated': 2, 'started': 2, 'editing': 1, 'gyro': 1, 'basically': 1, 'lettuce': 1, 'weve': 2, 'gotten': 1, 'door': 1, 'services': 1, 'walked': 2, 'smelled': 1, 'grease': 1, 'trap': 1, 'others': 2, 'self': 1, 'proclaimed': 1, 'coffee': 1, 'wildly': 1, 'pissd': 1, 'impressed': 4, 'noca': 1, 'red': 1, 'bamboo': 1, 'shoots': 1, 'awful': 2, 'del': 1, 'should': 5, 'avoided': 1, 'bug': 2, 'showed': 1, 'given': 1, 'climbing': 1, 'kitchen': 1, 'rolled': 1, 'eyes': 1, 'inconsiderate': 1, 'management': 4, 'frustrated': 1, 'horrible': 5, 'waste': 4, 'money': 3, 'anyway': 1, 'worse': 3, 'officially': 1, 'believe': 2, 'unexperienced': 1, 'employees': 1, 'chickens': 1, 'heads': 1, 'cut': 1, 'avoid': 5, 'cost': 1, 'frozen': 2, 'margaritas': 1, 'sugary': 1, 'summary': 1, 'largely': 1, 'disappointing': 4, 'poorly': 1, 'constructed': 1, 'insulted': 2, 'disrespected': 1, 'judge': 1, 'human': 2, 'contained': 1, 'driest': 2, 'madhouse': 1, 'please': 3, 'noodles': 1, 'gave': 1, 'star': 3, 'rating': 1, 'third': 2, 'writing': 1, 'yourself': 3, 'favor': 2, 'despite': 1, 'rate': 1, 'businesses': 1, 'vomited': 1, 'bathroom': 2, 'mid': 2, 'real': 2, 'disappointment': 2, 'send': 1, 'verge': 1, 'having': 1, 'seems': 2, 'grab': 1, 'bite': 1, 'pub': 1, 'look': 2, 'elsewhere': 3, 'strike': 1, 'wants': 1, 'rushed': 1, 'final': 1, 'blow': 1, 'hate': 2, 'olives': 1, 'sadly': 1, 'gordon': 1, 'ramseys': 1, 'shall': 1, 'sharply': 1, 'accountant': 1, 'screwed': 1, 'gross': 1, 'tonight': 1, 'elk': 1, 'filet': 2, 'specialand': 1, 'sucked': 2, 'sliced': 1, 'brisket': 1, 'pulled': 1, 'bouchon': 1, 'tasteless': 2, 'zero': 3, 'sucks': 2, 'baby': 1, 'greens': 1, 'hearts': 1, 'palm': 1, 'fella': 1, 'huevos': 1, 'rancheros': 1, 'appealing': 1, 'stretch': 1, 'imagination': 1, 'ground': 1, 'smeared': 1, 'been-stepped-in-and-tracked-everywhere': 1, 'pile': 1, 'bird': 1, 'poop': 1, 'sitting': 1, 'fairly': 1, 'ended': 2, 'waiting': 4, '30': 3, 'fair': 1, 'rather': 2, 'gone': 2, 'stomach': 2, 'business': 3, 'cause': 1, 'owned': 1, 'wanted': 2, 'hilarious': 1, 'christmas': 1, 'eve': 1, 'remember': 1, 'biggest': 1, 'fail': 2, 'entire': 1, 'live': 4, 'fridays': 1, 'totally': 2, 'blows': 1, 'her': 5, 'forever': 1, 'bring': 3, 'asked': 4, 'probably': 6, 'wouldnt': 3, 'overpriced': 5, 'consistent': 1, '10': 4, 'opened': 1, 'style': 1, 'dirty': 2, 'oysters': 1, 'airline': 1, 'lacking': 1, 'connoisseur': 1, 'difference': 1, 'between': 2, 'certainly': 1, '40min': 1, 'passed': 2, 'ordering': 1, 'arriving': 1, 'kabuki': 1, 'over-priced': 1, 'over-hip': 1, 'under-services': 1, 'total': 2, 'cheated': 1, 'wasting': 2, 'company': 1, '-my': 1, 'correct': 1, 'refill': 2, 'struggle': 1, 'wave': 1, '-drinks': 1, 'atrocious': 1, 'relocated': 1, 'based': 1, 'sub-par': 1, 'effort': 1, 'show': 1, 'gratitude': 1, 'appetite': 1, 'instantly': 1, 'suffers': 1, 'trying': 1, 'dressed': 1, 'rudely': 1, 'reason': 1, 'fill': 1, 'binge': 1, 'drinking': 1, 'carbs': 1, 'forth': 1, 'helped': 1, 'nothing': 4, 'postinos': 1, 'bette': 1, 'spaghetti': 1, 'whatsoever': 1, 'ripped': 2, 'banana': 1, 'petrified': 1, 'three': 2, 'occasions': 1, 'medium': 1, 'bloodiest': 1, 'piece': 2, 'hello': 1, 'particular': 1, 'location': 2, 'mains': 1, 'uninspired': 1, 'almost': 1, 'expensive': 1, 'bussell': 1, 'sprouts': 1, 'risotto': 1, 'needed': 2, 'salt': 3, 'pepperand': 1, 'none': 2, 'tables': 3, 'burrittos': 1, 'blah': 1, 'tempi': 1, 'watched': 1, 'prepare': 1, 'bare': 1, 'gloveseverything': 1, 'deep': 1, 'oil': 1, 'appetizer': 1, 'plater': 1, 'turn': 1, 'doubt': 2, 'unless': 2, 'else': 2, 'buying': 1, 'pucks': 1, 'disgust': 1, 'behind': 1, 'register': 1, 'grandmother': 1, 'apologize': 1, 'managed': 1, 'blandest': 1, 'indian': 1, 'cuisine': 1, 'mean': 1, 'famous': 1, 'terrible': 8, 'known': 1, 'suck': 2, 'excalibur': 1, 'common': 1, 'sense': 1, 'bus': 1, 'shocked': 1, 'signs': 1, 'indicate': 1, 'cash': 1, 'college': 1, 'cooking': 1, 'class': 1, 'dirt': 2, 'besides': 1, 'costcos': 1, 'burned': 1, 'saganaki': 1, 'downright': 1, 'humiliated': 1, 'worker': 1, 'front': 1, 'mebunch': 1, 'name': 1, 'callings': 1, 'experiencing': 1, 'underwhelming': 2, 'relationship': 1, 'parties': 1, 'find': 2, 'despicable': 1, 'main': 1, 'crowd': 2, 'older': 1, '30s': 1, 'reviewer': 1, 'couldnt': 2, 'leaves': 1, 'desired': 1, 'honestly': 1, 'blown': 1, 'bites': 2, 'spends': 1, 'talking': 1, 'themselves': 1, 'greedy': 1, 'corporation': 1, 'dime': 1, 'plantains': 1, 'correction': 1, 'heimer': 1, 'par': 2, 'dennys': 1, 'agai': 1, 'descriptions': 1, 'yum': 2, 'eel': 1, 'mayowell': 1, 'sauces': 1, 'sashimi': 1, 'brownish': 1, 'color': 1, 'obviously': 1, 'attitudes': 1, 'towards': 2, 'customers': 2, 'theyd': 1, 'grossed': 1, 'apparently': 1, 'batter': 2, 'chewy': 2, 'anyways': 1, 'mistake': 1, 'recently': 1, 'witnessed': 1, 'poor': 2, 'guests': 1, 'lets': 1, 'yama': 1, 'thoroughly': 1, 'sorry': 1, 'ha': 1, 'long': 3, 'flop': 1, 'without': 2, 'disgrace': 1, 'unprofessional': 1, 'loyal': 1, 'patron': 1, 'crostini': 1, 'douchey': 1, 'indoor': 1, 'garden': 1, 'biscuits': 1, 'stinks': 1, 'ninja': 1, 'disgusted': 1, 'hair': 1, 'shouldnt': 1, 'min': 1, 'eggs': 1, 'bother': 1, 'bill': 2, 'single': 2, 'employee': 1, 'ok': 1, 'finally': 1, 'doughy': 1, 'flavorless': 1, 'literally': 2, 'asking': 1, 'furthermore': 1, 'hours': 1, 'operation': 1, 'website': 1, 'caterpillar': 1, 'dollars': 1, 'concern': 1, 'mellow': 1, 'mushroom': 1, 'greasy': 1, 'unhealthy': 1, 'spend': 1, 'guacamole': 1, 'pured': 1, 'hour': 4, 'greatest': 1, 'moods': 1, 'surprised': 1, 'article': 1, 'read': 1, 'focused': 2, 'spices': 1, 'disagree': 1, 'fellow': 1, 'yelpers': 1, 'lover': 1, 'means': 1, 'looking': 1, 'hated': 1, 'coconut': 1, 'neat': 1, 'trippy': 1, 'wayyy': 1, 'lived': 1, '1979': 1, 'stepped': 1, 'foot': 1, 'into': 1, 'privileged': 1, 'workingeating': 1, 'hell': 1, 'bac': 1, 'promise': 1, 'fails': 1, 'deliver': 1, '90': 1, 'tough': 1, 'short': 1, 'refused': 1, 'anymore': 1, 'gyros': 1, 'missing': 1, 'crust': 1, 'shrimp-': 1, 'unwrapped': 1, '12': 1, 'mile': 1, 'brushfire': 1, 'mac': 1, 'nutshell': 1, 'restaraunt': 1, 'smells': 1, 'market': 1, 'sewer': 1, 'reading': 1, 'rave': 1, 'herewhat': 1, 'call': 1, 'steakhouse': 1, 'properly': 1, 'cook': 1, 'understand': 1, 'problem': 1, 'charge': 1, '1199': 1, 'bigger': 1, 'sub': 1, 'offers': 1, 'thirty': 1, 'although': 1, 'vacant': 1, 'double': 1, 'cheeseburger': 1, 'patty': 1, 'falling': 1, 'apart': 1, 'picture': 1, 'uploaded': 1, 'yeah': 1, 'paid': 1, 'luck': 1, 'non-customer': 1, 'prettyoff': 1, 'putting': 1, 'werent': 1, 'somewhat': 1, 'combo': 1, 'ala': 1, 'cart': 1, 'offered': 1, 'low': 1, 'tolerance': 1, 'polite': 1, 'wash': 1, 'otherwise': 1, 'six': 1, 'inch': 1, 'wire': 1, 'under': 1, 'circumstances': 1, 'tops': 1, 'list': 2, 'disapppointment': 1, 'entrees': 1, 'hadnt': 1, 'wasted': 1, 'life': 1, 'poured': 1, 'wound': 1, 'drawing': 1, 'luke': 1, 'sever': 1, 'changing': 1, 'returning': 1, 'strings': 1, 'bottom': 1, 'ratio': 1, 'tenders': 1, 'unsatisfying': 1, 'mirage': 1, 'alone': 1, 'waaaaaayyyyyyyyyy': 1, 'saying': 1, 'hopes': 1, 'charcoal': 1, 'fell': 1, 'flat': 2, 'strange': 1, 'ians': 1, 'paying': 1, '785': 1, 'looks': 1, 'kids': 1, 'wienerschnitzel': 1, 'idea': 1, 'shower': 2, 'rinse': 1, 'mind': 1, 'nude': 1, 'multiple': 1, 'ignored': 1, 'hostess': 1, 'myself': 1, 'swung': 1, 'deeply': 1, 'meh': 1}\n"
     ]
    }
   ],
   "source": [
    "print(\"Dictionary:\\n \", voc)"
   ]
  },
  {
   "cell_type": "code",
   "execution_count": 177,
   "metadata": {},
   "outputs": [
    {
     "name": "stdout",
     "output_type": "stream",
     "text": [
      "Total Words:  7649\n"
     ]
    }
   ],
   "source": [
    "print(\"Total Words: \", tot_words)"
   ]
  },
  {
   "cell_type": "code",
   "execution_count": null,
   "metadata": {},
   "outputs": [],
   "source": [
    "Prior Calculation"
   ]
  },
  {
   "cell_type": "code",
   "execution_count": 139,
   "metadata": {},
   "outputs": [],
   "source": [
    "def prior_calc(trainClass, data):\n",
    "    L = math.log(len(trainClass)/len(data))\n",
    "    \n",
    "    return L"
   ]
  },
  {
   "cell_type": "code",
   "execution_count": 140,
   "metadata": {},
   "outputs": [],
   "source": [
    "L0 = prior_calc(train0, train)\n",
    "L1 = prior_calc(train1, train)"
   ]
  },
  {
   "cell_type": "markdown",
   "metadata": {},
   "source": [
    "Prediction"
   ]
  },
  {
   "cell_type": "code",
   "execution_count": 141,
   "metadata": {},
   "outputs": [],
   "source": [
    "def predict(mL0, mL1, token0, token1, test):\n",
    "    y = []\n",
    "    acc = 0\n",
    "    \n",
    "    for i in range(len(test)):\n",
    "        pred0 = mL0\n",
    "        pred1 = mL1\n",
    "    \n",
    "        for w in test[i][0].split(\" \"):\n",
    "            w = w.lower()\n",
    "            if token0.__contains__(w):\n",
    "                pred0 += token0[w]\n",
    "            if token1.__contains__(w):    \n",
    "                pred1 += token1[w]\n",
    "    \n",
    "        if pred0 > pred1:\n",
    "            y.append(0)\n",
    "        else: \n",
    "            y.append(1)\n",
    "        \n",
    "        if y[i] == test[i][1]:\n",
    "            acc += 1\n",
    "    \n",
    "    total_acc = acc/len(test)\n",
    "    \n",
    "    return total_acc"
   ]
  },
  {
   "cell_type": "markdown",
   "metadata": {},
   "source": [
    "mAP calculation"
   ]
  },
  {
   "cell_type": "code",
   "execution_count": 142,
   "metadata": {},
   "outputs": [],
   "source": [
    "def Map(voc_data, voc_class, tot_words, k):\n",
    "    Acc_tokens = {}\n",
    "    voc_len = len(voc_data)\n",
    "    \n",
    "    for w in voc_data:\n",
    "        if voc_class.__contains__(w):\n",
    "            Acc_tokens[w] = math.log((voc_class[w] + k)/(tot_words + (voc_len*k)))\n",
    "        else:\n",
    "            if k != 0:\n",
    "                Acc_tokens[w] = math.log((k)/(tot_words + (voc_len*k)))\n",
    "    return Acc_tokens"
   ]
  },
  {
   "cell_type": "code",
   "execution_count": 143,
   "metadata": {},
   "outputs": [],
   "source": [
    "L_token0 = Map(voc, word_0, tot_word0, 0)\n",
    "L_token1 = Map(voc, word_1, tot_word1, 0)"
   ]
  },
  {
   "cell_type": "code",
   "execution_count": 144,
   "metadata": {},
   "outputs": [],
   "source": [
    "Map_token0 = Map(voc, word_0, tot_word0, 1)\n",
    "Map_token1 = Map(voc, word_1, tot_word1, 1)"
   ]
  },
  {
   "cell_type": "markdown",
   "metadata": {},
   "source": [
    "Cross Validation"
   ]
  },
  {
   "cell_type": "code",
   "execution_count": 155,
   "metadata": {},
   "outputs": [],
   "source": [
    "def cross_validation(t0,t1,a,m,k):\n",
    "    \n",
    "    new_train_0 = random.sample(t0,len(t0))\n",
    "    new_train_1 = random.sample(t1,len(t1))\n",
    "    \n",
    "    fold = int(len(new_train_0)/a)\n",
    "    \n",
    "    MAP_accuracy = np.zeros((10, 10))\n",
    "    \n",
    "    MAP_sm_accuracy = []\n",
    "    \n",
    "    sd_L = []\n",
    "    sd_map = []\n",
    "\n",
    "    cv_test0 = []\n",
    "    cv_test1 = []\n",
    "    cv_train0 = []\n",
    "    cv_train1 = []\n",
    "\n",
    "    for i in range(a):\n",
    "        if i == 0:\n",
    "            cv_test0 = new_train_0[(i*fold):((i+1)*fold)]\n",
    "            cv_train0 = new_train_0[(i+1)*fold:]\n",
    "\n",
    "            cv_test1 = new_train_1[i*fold:(i+1)*fold]\n",
    "            cv_train1 = new_train_1[(i+1)*fold:]\n",
    "        if i == (a-1):\n",
    "            cv_test0 = new_train_0[i*fold:(i+1)*fold]\n",
    "            cv_train0 = new_train_0[:(i)*fold]\n",
    "\n",
    "            cv_test1 = new_train_1[i*fold:(i+1)*fold]\n",
    "            cv_train1 = new_train_1[:(i)*fold]\n",
    "        else:\n",
    "            cv_test0 = new_train_0[i*fold:(i+1)*fold]\n",
    "            cv_train0 = new_train_0[:(i)*fold] + new_train_0[(i+1)*fold:]\n",
    "\n",
    "            cv_test1 = new_train_1[i*fold:(i+1)*fold]\n",
    "            cv_train1 = new_train_1[:(i)*fold] + new_train_1[(i+1)*fold:]\n",
    "            \n",
    "            \n",
    "        \n",
    "        if k == 1:\n",
    "            for l in range(10):\n",
    "\n",
    "                newTrain1 = cv_train1[:int(((l+1)*len(cv_train1)/10))]\n",
    "                newTrain0 = cv_train0[:int(((l+1)*len(cv_train0)/10))]\n",
    "\n",
    "                voc,tot_words = dictionary(newTrain1 + newTrain0)\n",
    "\n",
    "                vocab_1,tot_word1 = dictionary(newTrain1)\n",
    "                vocab_0,tot_word0 = dictionary(newTrain0)\n",
    "\n",
    "                L0 = prior_calc(newTrain0,newTrain1+newTrain0)\n",
    "                L1 = prior_calc(newTrain1,newTrain1+newTrain0)\n",
    "\n",
    "                Map_token0 = Map(voc,vocab_0,tot_word0,m)\n",
    "                Map_token1 = Map(voc,vocab_1,tot_word1,m)\n",
    "\n",
    "                MAP_accuracy[i][l] = predict(L0,L1,Map_token0,Map_token1,cv_test1+cv_test0)\n",
    "                \n",
    "            \n",
    "        if k == 2:\n",
    "            newTrain1 = cv_train1\n",
    "            newTrain0 = cv_train0\n",
    "\n",
    "            voc,tot_words = dictionary(newTrain1 + newTrain0)\n",
    "\n",
    "            voc_1,tot_word1 = dictionary(newTrain1)\n",
    "            voc_0,tot_word0 = dictionary(newTrain0)\n",
    "\n",
    "            L0 = prior_calc(new_train_0,new_train_1+new_train_0)\n",
    "            L1 = prior_calc(new_train_1,new_train_1+new_train_0)\n",
    "\n",
    "            Map_token0 = Map(voc,voc_0,tot_word0,m)\n",
    "            Map_token1 = Map(voc,voc_1,tot_word1,m)\n",
    "\n",
    "            MAP_sm_accuracy.append(predict(L0,L1,Map_token0,Map_token1,cv_test1+cv_test0))\n",
    "    \n",
    "    if k == 2:\n",
    "        mean = np.mean(MAP_sm_accuracy,axis=0)\n",
    "        stand = np.std(MAP_sm_accuracy,axis=0)\n",
    "        return mean,stand\n",
    "    \n",
    "    if k ==1:\n",
    "        mean = np.mean(MAP_accuracy, axis=0)\n",
    "        stand = np.std(MAP_accuracy, axis=0)\n",
    "        return mean,stand"
   ]
  },
  {
   "cell_type": "code",
   "execution_count": 156,
   "metadata": {},
   "outputs": [],
   "source": [
    "mean_MAP,stand_MAP = cross_validation(ds_0, ds_1,10,1,1)"
   ]
  },
  {
   "cell_type": "code",
   "execution_count": 160,
   "metadata": {},
   "outputs": [],
   "source": [
    "def plot_graph(mean_MAP,stand_MAP):\n",
    "    \n",
    "    ind = np.arange(10)\n",
    "\n",
    "    a = [0.1,0.2,0.3,0.4,0.5,0.6,0.7,0.8,0.9,1]\n",
    "    \n",
    "    y0 = mean_MAP\n",
    "    y_err0 = stand_MAP\n",
    "    \n",
    "    plt.figure(200)\n",
    "    plt.errorbar(a,y0,y_err0, color=\"red\")\n",
    "    \n",
    "    plt.title(\"Accuracy before smoothing\")\n",
    "    plt.gca().legend(('Mean Accuracy'))\n",
    "    plt.xlabel('Train-set')\n",
    "    plt.ylabel('Accuracy')\n",
    "    plt.xticks(a)\n",
    "    plt.tick_params(axis=\"x\", labelsize=9)\n",
    "    fig = plt.gcf()\n",
    "    fig.set_size_inches(10,7)\n",
    "    plt.show()"
   ]
  },
  {
   "cell_type": "code",
   "execution_count": 161,
   "metadata": {},
   "outputs": [
    {
     "data": {
      "image/png": "[encoded data removed]",
      "text/plain": [
       "<Figure size 720x504 with 1 Axes>"
      ]
     },
     "metadata": {
      "needs_background": "light"
     },
     "output_type": "display_data"
    }
   ],
   "source": [
    "plot_graph(mean_MAP, stand_MAP)"
   ]
  },
  {
   "cell_type": "code",
   "execution_count": 162,
   "metadata": {},
   "outputs": [],
   "source": [
    "smooth_mean = []\n",
    "smooth_stand = []\n",
    "for i in range(10):\n",
    "    s_mean,s_stand = cross_validation(ds_0, ds_1,10,(i/10),2)\n",
    "    smooth_mean.append(s_mean)\n",
    "    smooth_stand.append(s_stand)\n",
    "for j in range(10):\n",
    "    s_mean,s_stand = cross_validation(ds_0, ds_1,10,(j+1),2)\n",
    "    smooth_mean.append(s_mean)\n",
    "    smooth_stand.append(s_stand)"
   ]
  },
  {
   "cell_type": "code",
   "execution_count": 173,
   "metadata": {},
   "outputs": [],
   "source": [
    "def sm_plot(x,xerr):\n",
    "    \n",
    "    a = [0,0.1,0.2,0.3,0.4,0.5,0.6,0.7,0.8,0.9,1,2,3,4,5,6,7,8,9,10]\n",
    "    plt.figure(500)\n",
    "    plt.errorbar(a,x,xerr, color=\"red\")\n",
    "    plt.title(\"Accuracy after smoothing\")\n",
    "    plt.legend(('m'))\n",
    "    plt.xlabel('test set')\n",
    "    plt.ylabel('Accuracy')\n",
    "    plt.xticks(x)\n",
    "    plt.tick_params(axis=\"x\", labelsize=9)\n",
    "    fig = plt.gcf()\n",
    "    fig.set_size_inches(15,10)\n",
    "    plt.show()"
   ]
  },
  {
   "cell_type": "code",
   "execution_count": 174,
   "metadata": {},
   "outputs": [
    {
     "data": {
      "image/png": "[encoded data removed]",
      "text/plain": [
       "<Figure size 1080x720 with 1 Axes>"
      ]
     },
     "metadata": {
      "needs_background": "light"
     },
     "output_type": "display_data"
    }
   ],
   "source": [
    "sm_plot(smooth_mean,smooth_stand)"
   ]
  },
  {
   "cell_type": "code",
   "execution_count": null,
   "metadata": {},
   "outputs": [],
   "source": []
  }
 ],
 "metadata": {
  "kernelspec": {
   "display_name": "Python 3",
   "language": "python",
   "name": "python3"
  },
  "language_info": {
   "codemirror_mode": {
    "name": "ipython",
    "version": 3
   },
   "file_extension": ".py",
   "mimetype": "text/x-python",
   "name": "python",
   "nbconvert_exporter": "python",
   "pygments_lexer": "ipython3",
   "version": "3.8.5"
  }
 },
 "nbformat": 4,
 "nbformat_minor": 4
}
